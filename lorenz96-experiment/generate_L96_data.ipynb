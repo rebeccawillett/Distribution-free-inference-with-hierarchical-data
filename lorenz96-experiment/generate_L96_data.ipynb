{
 "cells": [
  {
   "cell_type": "markdown",
   "id": "9Xkqk13M4FFF",
   "metadata": {
    "id": "9Xkqk13M4FFF"
   },
   "source": [
    "# Lorenz-96 data generation\n",
    "## From the paper \"Distribution-free inference with hierarchical data\"\n",
    "\n",
    "The script generates the data used for the experiment in Section 4.\n"
   ]
  },
  {
   "cell_type": "code",
   "execution_count": 4,
   "id": "2c161e87",
   "metadata": {
    "id": "2c161e87"
   },
   "outputs": [
    {
     "name": "stdout",
     "output_type": "stream",
     "text": [
      "The autoreload extension is already loaded. To reload it, use:\n",
      "  %reload_ext autoreload\n"
     ]
    }
   ],
   "source": [
    "%load_ext autoreload\n",
    "%autoreload 2\n",
    "\n",
    "import numpy as np\n",
    "import pdb, random\n",
    "import argparse, os\n",
    "import matplotlib.pyplot as plt\n",
    "import time\n",
    "from tqdm import tqdm\n",
    "from multiprocessing import Pool, cpu_count\n",
    "import matplotlib.pyplot as plt\n",
    "import warnings\n",
    "import torch\n",
    "from torch import nn\n",
    "import torch.optim as optim\n",
    "from l96_data import generate_l96_data, lorenz96, save_l96_data"
   ]
  },
  {
   "cell_type": "markdown",
   "id": "4a0aaf9f",
   "metadata": {
    "id": "4a0aaf9f"
   },
   "source": [
    "## Prepare the data"
   ]
  },
  {
   "cell_type": "markdown",
   "id": "ae796f16",
   "metadata": {
    "id": "ae796f16"
   },
   "source": [
    "##### Step 1: Randomly draw $k$ initial conditions from normal distributons and run the simulation model to time $T_0$.\n",
    "\n",
    "##### Step 2: For each group $k$, we perturb the state at $T_0$ by adding a slight amount of noise $\\eta_n$ for $n = 1,\\ldots,N_k$.\n",
    "$$ u_{k, n}(T_0) = u_{k}(T_0) + r \\eta_{k,n},$$\n",
    "where $ \\eta_n \\sim \\mathcal{N}(0, 1)$ and $r$ is a scalar.\n",
    "\n",
    "We then use $u_{k,n}$ as the initial conditions and run the L96 solver with the perturbed initial condtions for $K$ groups and $N_k$ perturbations for each group."
   ]
  },
  {
   "cell_type": "code",
   "execution_count": 5,
   "id": "2af00096",
   "metadata": {
    "id": "2af00096"
   },
   "outputs": [],
   "source": [
    "r_eta_perturb = 0.5\n",
    "time_step = 0.05\n",
    "# spin up time T_0 for dynamical system\n",
    "T_0 = 20\n",
    "# run time T_max after perturbing state at time T_0\n",
    "T_max = 5\n",
    "# set time T at which we have response Y;\n",
    "T = 0.5 # corresponds to Z_index = 10\n",
    "#T = 0.05 # corresponds to Z_index = 1\n",
    "T = round(T/time_step)*time_step # ensures Z_index an integer when T = Z_index * time_step\n",
    "M = 10\n",
    "K, N_k = 800, 50\n",
    "\n",
    "seeds_base = 0\n",
    "train_data_folder = [f'train', seeds_base]\n",
    "seeds_base = seeds_base + K * N_k\n",
    "calibration_data_folder = [f'calibration', seeds_base]\n",
    "seeds_base = seeds_base + K * N_k\n",
    "test_data_folder = [f'test', seeds_base]"
   ]
  },
  {
   "cell_type": "markdown",
   "id": "cxZjYqb-zp4D",
   "metadata": {
    "id": "cxZjYqb-zp4D"
   },
   "source": [
    "#### Generate and save new data"
   ]
  },
  {
   "cell_type": "code",
   "execution_count": 6,
   "id": "GcxnYFIpzVwT",
   "metadata": {
    "id": "GcxnYFIpzVwT"
   },
   "outputs": [],
   "source": [
    "train_tuple = save_l96_data(train_data_folder, time_step, T_0, T_max, K, N_k, r_eta_perturb, N = M)\n",
    "calibration_tuple = save_l96_data(calibration_data_folder, time_step, T_0, T_max, K, N_k, r_eta_perturb, N = M)\n",
    "test_tuple = save_l96_data(test_data_folder, time_step, T_0, T_max, K, N_k, r_eta_perturb, N = M)"
   ]
  }
 ],
 "metadata": {
  "colab": {
   "provenance": []
  },
  "kernelspec": {
   "display_name": "Python 3 (ipykernel)",
   "language": "python",
   "name": "python3"
  },
  "language_info": {
   "codemirror_mode": {
    "name": "ipython",
    "version": 3
   },
   "file_extension": ".py",
   "mimetype": "text/x-python",
   "name": "python",
   "nbconvert_exporter": "python",
   "pygments_lexer": "ipython3",
   "version": "3.11.5"
  }
 },
 "nbformat": 4,
 "nbformat_minor": 5
}
