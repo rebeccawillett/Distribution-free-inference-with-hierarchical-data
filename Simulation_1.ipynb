{
 "cells": [
  {
   "cell_type": "markdown",
   "metadata": {
    "id": "LgzIlpak4q44"
   },
   "source": [
    "# Simulation 1\n",
    "## From the paper \"Distribution-free inference with hierarchical data\"\n",
    "### by Yonghoon Lee, Rina Foygel Barber, and Rebecca Willett\n",
    "https://arxiv.org/abs/2306.06342\n",
    "\n",
    "\n",
    "The script reproduces the simulation in Section 2.\n"
   ]
  },
  {
   "cell_type": "code",
   "execution_count": 1,
   "metadata": {
    "id": "XRx_UgyMGCs0"
   },
   "outputs": [],
   "source": [
    "import pandas as pd\n",
    "import numpy as np\n",
    "import matplotlib.pyplot as plt\n",
    "import math\n",
    "from math import trunc\n",
    "import statistics\n",
    "from itertools import combinations\n",
    "from scipy.stats import norm\n",
    "import random"
   ]
  },
  {
   "cell_type": "code",
   "execution_count": 2,
   "metadata": {
    "id": "AwdBRn4cXXxT"
   },
   "outputs": [],
   "source": [
    "np.random.seed(1234)\n",
    "random.seed(1234)"
   ]
  },
  {
   "cell_type": "markdown",
   "metadata": {
    "id": "pu0gQ3vYI7FS"
   },
   "source": [
    "#### Functions"
   ]
  },
  {
   "cell_type": "code",
   "execution_count": 3,
   "metadata": {
    "id": "C6M1H9zwGe_R"
   },
   "outputs": [],
   "source": [
    "#functions\n",
    "def f_mu_quadratic(x):\n",
    "  mu = 1+x+0.1*(x**2)\n",
    "  return mu\n",
    "\n",
    "def score_residual(y,muhat):\n",
    "  s = np.abs(y-muhat)\n",
    "  return s\n",
    "\n",
    "def quantile(probs,values,level):\n",
    "  ind = [np.sum(np.multiply(probs,(values<=v))) >= 1-level for v in values]\n",
    "  q = np.min(values[np.where(np.array(ind) == True)[0]])\n",
    "  return q\n",
    "\n",
    "def normal_coverage(CI,mu,sigma):\n",
    "  return(norm.cdf((CI[1]-mu)/sigma)-norm.cdf((CI[0]-mu)/sigma))"
   ]
  },
  {
   "cell_type": "code",
   "execution_count": 4,
   "metadata": {
    "id": "nefs5QdLM7XL"
   },
   "outputs": [],
   "source": [
    "def HCP(X,Y,group_sizes,alpha,score,muhat):\n",
    "  K = np.shape(X)[0]\n",
    "\n",
    "  score_tilde = {}\n",
    "  for i in range(K):\n",
    "    score_tilde[i] = score(Y[i],muhat[i])\n",
    "\n",
    "  values = []\n",
    "  prob = []\n",
    "\n",
    "  for i in range(K):\n",
    "    values = values+(score_tilde[i]).tolist()\n",
    "    prob = prob+[1/((K+1)*group_sizes[i])]*group_sizes[i]\n",
    "\n",
    "  values = np.array(values+[np.inf] )\n",
    "  prob = np.array(prob+[1/(K+1)])\n",
    "\n",
    "  q = quantile(prob,values,alpha)\n",
    "\n",
    "  return q\n",
    "\n",
    "def double_conformal(Y,alpha):\n",
    "  K = len(Y)\n",
    "  N = np.shape(Y[0])[0]\n",
    "  r_0 = np.max([1,math.floor((N+1)*alpha/2)])-1\n",
    "  s_0 = np.min([math.ceil((N+1)*(1-alpha/2)),N])-1\n",
    "  l_vec = np.zeros(K)\n",
    "  u_vec = np.zeros(K)\n",
    "  for i in range(K):\n",
    "    y_sort = np.sort(Y[i])\n",
    "    l_vec[i] = y_sort[r_0]\n",
    "    u_vec[i] = y_sort[s_0]\n",
    "\n",
    "  r = np.max([1,math.floor((K+1)*alpha/4)])-1\n",
    "  s = np.min([math.ceil((K+1)*(1-alpha/2)),K])-1\n",
    "\n",
    "  l = (np.sort(l_vec))[r]\n",
    "  u = (np.sort(u_vec))[s]\n",
    "\n",
    "  return([l,u])\n",
    "\n",
    "def pooling_cdfs(X,Y,group_sizes,alpha,score,muhat):\n",
    "  K = np.shape(X)[0]\n",
    "\n",
    "  score_tilde = {}\n",
    "  for i in range(K):\n",
    "    score_tilde[i] = score(Y[i],muhat[i])\n",
    "\n",
    "  values = []\n",
    "  prob = []\n",
    "\n",
    "  for i in range(K):\n",
    "    values = values+(score_tilde[i]).tolist()\n",
    "    prob = prob+[1/(K*group_sizes[i])]*group_sizes[i]\n",
    "\n",
    "  values = np.array(values)\n",
    "  prob = np.array(prob)\n",
    "\n",
    "  q = quantile(prob,values,alpha)\n",
    "\n",
    "  return q\n",
    "\n",
    "\n",
    "#subsampling once\n",
    "def subsampling_once(Y,alpha):\n",
    "  K = len(Y)\n",
    "  Y_subsample = np.array([np.random.choice(Y[i],1)[0] for i in range(K)])\n",
    "  Y_subsample_sort = np.sort(Y_subsample)\n",
    "  r = int(np.floor((K+1)*alpha/2)-1)\n",
    "  s = int(np.ceil((K+1)*(1-alpha/2))-1)\n",
    "  return(np.array([Y_subsample_sort[r],Y_subsample_sort[s]]))\n"
   ]
  },
  {
   "cell_type": "markdown",
   "metadata": {
    "id": "4HfvdRXUI9l2"
   },
   "source": [
    "#### First split of data"
   ]
  },
  {
   "cell_type": "code",
   "execution_count": 5,
   "metadata": {
    "id": "XS4C_bVbS3U0"
   },
   "outputs": [],
   "source": [
    "K_0=10\n",
    "K_1=10\n",
    "N=2\n",
    "Sigma = np.ones((N,N)) + np.diag(np.ones(N))"
   ]
  },
  {
   "cell_type": "code",
   "execution_count": 6,
   "metadata": {
    "id": "6jcZYnzxTXz7"
   },
   "outputs": [],
   "source": [
    "X0 = np.random.multivariate_normal(np.zeros(N),Sigma,K_0)\n",
    "mu0 = f_mu_quadratic(X0)\n",
    "Y0 = [np.random.multivariate_normal(mu0[i],Sigma,1)[0] for i in range(K_0)]\n",
    "X0_vec = np.concatenate(X0)\n",
    "Y0_vec = np.concatenate(Y0)\n",
    "X0_mat = np.column_stack((np.ones(K_0*N),X0_vec))\n",
    "beta = np.linalg.solve(np.matmul(X0_mat.transpose(),X0_mat),np.matmul(X0_mat.transpose(),Y0_vec))"
   ]
  },
  {
   "cell_type": "markdown",
   "metadata": {
    "id": "YJPSP6b0IxdA"
   },
   "source": [
    "#### run HCP / double conformal / Pooling CDFs / Subsampling once"
   ]
  },
  {
   "cell_type": "code",
   "execution_count": 7,
   "metadata": {
    "colab": {
     "base_uri": "https://localhost:8080/"
    },
    "id": "2VSXu88BBUcv",
    "outputId": "53c426f1-96be-4c77-9ad7-dcef236d4cc4"
   },
   "outputs": [],
   "source": [
    "score = score_residual\n",
    "\n",
    "n_trial = 500\n",
    "M=1000\n",
    "alpha=0.2\n",
    "\n",
    "coverage_HCP = np.zeros((n_trial,M))\n",
    "coverage_double_conformal = np.zeros((n_trial,M))\n",
    "coverage_pooling_cdfs = np.zeros((n_trial,M))\n",
    "coverage_subsampling_once = np.zeros((n_trial,M))\n",
    "width_HCP = np.zeros((n_trial,M))\n",
    "width_double_conformal = np.zeros((n_trial,M))\n",
    "width_pooling_cdfs = np.zeros((n_trial,M))\n",
    "width_subsampling_once = np.zeros((n_trial,M))\n",
    "\n",
    "X_test = np.random.normal(0,np.sqrt(2),M)\n",
    "mu_test = f_mu_quadratic(X_test)\n",
    "muhat_test = beta[0]+beta[1]*X_test\n",
    "\n",
    "for t in range(n_trial):\n",
    "  #print(t)\n",
    "\n",
    "  X1 = np.random.multivariate_normal(np.zeros(N),Sigma,K_1)\n",
    "  mu1 = f_mu_quadratic(X1)\n",
    "  Y1 = [np.random.multivariate_normal(mu1[i],Sigma,1)[0] for i in range(K_1)]\n",
    "  N1 = [N]*K_1\n",
    "\n",
    "  residuals = {}\n",
    "  muhat_train = beta[0]+beta[1]*X1\n",
    "\n",
    "  for i in range(K_1):\n",
    "   residuals[i] = Y1[i]-muhat_train[i,]\n",
    "\n",
    "  quantile_HCP = HCP(X1,Y1,N1,alpha,score,muhat_train)\n",
    "  quantile_pooling_cdfs = pooling_cdfs(X1,Y1,N1,alpha,score,muhat_train)\n",
    "  CI_score_double_conformal = np.array(double_conformal(residuals,alpha))\n",
    "  CI_score_subsampling_once = subsampling_once(residuals,alpha)\n",
    "\n",
    "  for j in range(M):\n",
    "    muhat_new = muhat_test[j]\n",
    "    mu_new = mu_test[j]\n",
    "    sigma_new = np.sqrt(2)\n",
    "\n",
    "    CI_split_marginal = [muhat_new - quantile_HCP,muhat_new + quantile_HCP]\n",
    "    CI_double_conformal = CI_score_double_conformal+muhat_new\n",
    "    CI_pooling_cdfs = [muhat_new - quantile_pooling_cdfs,muhat_new +quantile_pooling_cdfs]\n",
    "    CI_subsampling_once = CI_score_subsampling_once+muhat_new\n",
    "\n",
    "    coverage_HCP[t,j] = normal_coverage(CI_split_marginal,mu_new,sigma_new)\n",
    "    coverage_double_conformal[t,j] = normal_coverage(CI_double_conformal,mu_new,sigma_new)\n",
    "    coverage_pooling_cdfs[t,j] = normal_coverage(CI_pooling_cdfs,mu_new,sigma_new)\n",
    "    coverage_subsampling_once[t,j] = normal_coverage(CI_subsampling_once,mu_new,sigma_new)\n",
    "\n",
    "    width_HCP[t,j] = CI_split_marginal[1] - CI_split_marginal[0]\n",
    "    width_double_conformal[t,j] = CI_double_conformal[1] - CI_double_conformal[0]\n",
    "    width_pooling_cdfs[t,j] = CI_pooling_cdfs[1] - CI_pooling_cdfs[0]\n",
    "    width_subsampling_once[t,j] = CI_subsampling_once[1] - CI_subsampling_once[0]\n"
   ]
  },
  {
   "cell_type": "code",
   "execution_count": 8,
   "metadata": {
    "id": "_my24P_b223E"
   },
   "outputs": [],
   "source": [
    "HCP_coverage = np.mean(coverage_HCP,axis=1)\n",
    "pooling_coverage = np.mean(coverage_pooling_cdfs,axis=1)\n",
    "double_coverage = np.mean(coverage_double_conformal,axis=1)\n",
    "subsampling_coverage = np.mean(coverage_subsampling_once,axis=1)\n",
    "\n",
    "HCP_width = np.mean(width_HCP,axis=1)\n",
    "pooling_width = np.mean(width_pooling_cdfs,axis=1)\n",
    "double_width = np.mean(width_double_conformal,axis=1)\n",
    "subsampling_width = np.mean(width_subsampling_once,axis=1)"
   ]
  },
  {
   "cell_type": "code",
   "execution_count": 9,
   "metadata": {
    "id": "tbKPwOZpnnmX"
   },
   "outputs": [],
   "source": [
    "simulation_coverage = np.column_stack((HCP_coverage, pooling_coverage, double_coverage,subsampling_coverage))\n",
    "simulation_width = np.column_stack((HCP_width,pooling_width, double_width, subsampling_width))"
   ]
  },
  {
   "cell_type": "markdown",
   "metadata": {
    "id": "bBSS3nQY7JC8"
   },
   "source": [
    "#### Table / Plot"
   ]
  },
  {
   "cell_type": "code",
   "execution_count": 10,
   "metadata": {
    "id": "bThGBzcrA0OX"
   },
   "outputs": [],
   "source": [
    "marginal_coverage = {\"split conformal\":np.mean(simulation_coverage[:,0]),\"pooling cdfs\":np.mean(simulation_coverage[:,1]),\"double conformal\":np.mean(simulation_coverage[:,2]),\"subsampling once\":np.mean(simulation_coverage[:,3])}\n",
    "m = np.shape(simulation_coverage[:,0])[0]\n",
    "marginal_coverage_se = {\"split conformal\":np.std(simulation_coverage[:,0])/np.sqrt(m),\"pooling cdfs\":np.std(simulation_coverage[:,1])/np.sqrt(m),\"double conformal\":np.std(simulation_coverage[:,2])/np.sqrt(m),\"subsampling once\":np.std(simulation_coverage[:,3])/np.sqrt(m)}\n",
    "\n",
    "marginal_width = {\"split conformal\":np.mean(simulation_width[:,0]),\"pooling cdfs\":np.mean(simulation_width[:,1]),\"double conformal\":np.mean(simulation_width[:,2]),\"subsampling once\":np.mean(simulation_width[:,3])}\n",
    "m = np.shape(simulation_width[:,0])[0]\n",
    "marginal_width_se = {\"split conformal\":np.std(simulation_width[:,0])/np.sqrt(m),\"pooling cdfs\":np.std(simulation_width[:,1])/np.sqrt(m),\"double conformal\":np.std(simulation_width[:,2])/np.sqrt(m),\"subsampling once\":np.std(simulation_width[:,3])/np.sqrt(m)}\n"
   ]
  },
  {
   "cell_type": "code",
   "execution_count": 11,
   "metadata": {
    "id": "sE7DT4SzzPZq"
   },
   "outputs": [],
   "source": [
    "table_coverage = np.vstack((\n",
    "np.fromiter(marginal_coverage.values(),dtype='float'),\n",
    "np.fromiter(marginal_coverage_se.values(),dtype='float'),\n",
    "))\n",
    "\n",
    "table_width = np.vstack((\n",
    "np.fromiter(marginal_width.values(),dtype='float'),\n",
    "np.fromiter(marginal_width_se.values(),dtype='float')\n",
    "))"
   ]
  },
  {
   "cell_type": "code",
   "execution_count": 12,
   "metadata": {
    "colab": {
     "base_uri": "https://localhost:8080/"
    },
    "id": "_gH7poxu0Pvv",
    "outputId": "ad21672a-2f9a-4a92-d7e0-74841b2e3bfe"
   },
   "outputs": [
    {
     "name": "stdout",
     "output_type": "stream",
     "text": [
      "[[0.8553 0.0034 5.4151 0.0488]\n",
      " [0.7658 0.0042 4.3578 0.0429]\n",
      " [0.894  0.0031 5.7489 0.0527]\n",
      " [0.8177 0.0048 4.8216 0.0564]]\n"
     ]
    }
   ],
   "source": [
    "np.set_printoptions(precision=4,suppress=True)\n",
    "print(np.hstack((np.transpose(table_coverage),np.transpose(table_width))))"
   ]
  },
  {
   "cell_type": "code",
   "execution_count": 13,
   "metadata": {
    "colab": {
     "base_uri": "https://localhost:8080/",
     "height": 507
    },
    "id": "4eaWgEkHBJAD",
    "outputId": "4fa7bd44-8847-44ec-ff56-8a2534b9df2f"
   },
   "outputs": [
    {
     "name": "stderr",
     "output_type": "stream",
     "text": [
      "/tmp/ipykernel_11074/2264958343.py:14: UserWarning: FigureCanvasAgg is non-interactive, and thus cannot be shown\n",
      "  fig.show()\n"
     ]
    },
    {
     "data": {
      "image/png": "[encoded data removed]",
      "text/plain": [
       "<Figure size 1000x500 with 2 Axes>"
      ]
     },
     "metadata": {},
     "output_type": "display_data"
    }
   ],
   "source": [
    "fig, (ax1,ax2) = plt.subplots(1,2,figsize=(10,5),tight_layout=True)\n",
    "ax1.boxplot(simulation_coverage, showfliers=False)\n",
    "ax1.set_xticklabels(['HCP','Pooling\\n CDFs','Double\\n Conformal','Subsampling\\n Once'])\n",
    "ax1.set_title('Coverage',fontsize=15,pad=10)\n",
    "ax1.get_yaxis().set_label_coords(-0.12,0.5)\n",
    "ax1.set_ylim([0.4,1])\n",
    "ax1.set_ylabel(\"K=20, N=2\",fontsize=15,labelpad=5)\n",
    "ax1.axhline(y=0.8, color='grey', linestyle=':')\n",
    "ax2.boxplot(simulation_width, showfliers=False)\n",
    "ax2.set_xticklabels(['HCP','Pooling\\n CDFs','Double\\n Conformal','Subsampling\\n Once'])\n",
    "ax2.set_title('Prediction interval width',fontsize=15,pad=10)\n",
    "ax2.set_ylim([0,10])\n",
    "\n",
    "fig.show()"
   ]
  }
 ],
 "metadata": {
  "colab": {
   "provenance": []
  },
  "kernelspec": {
   "display_name": "Python 3 (ipykernel)",
   "language": "python",
   "name": "python3"
  },
  "language_info": {
   "codemirror_mode": {
    "name": "ipython",
    "version": 3
   },
   "file_extension": ".py",
   "mimetype": "text/x-python",
   "name": "python",
   "nbconvert_exporter": "python",
   "pygments_lexer": "ipython3",
   "version": "3.11.5"
  }
 },
 "nbformat": 4,
 "nbformat_minor": 1
}
